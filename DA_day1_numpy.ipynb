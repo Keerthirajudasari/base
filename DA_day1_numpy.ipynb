{
  "cells": [
    {
      "cell_type": "markdown",
      "metadata": {
        "id": "view-in-github",
        "colab_type": "text"
      },
      "source": [
        "<a href=\"https://colab.research.google.com/github/Keerthirajudasari/base/blob/main/DA_day1_numpy.ipynb\" target=\"_parent\"><img src=\"https://colab.research.google.com/assets/colab-badge.svg\" alt=\"Open In Colab\"/></a>"
      ]
    },
    {
      "cell_type": "code",
      "execution_count": null,
      "metadata": {
        "id": "2Kkb6l44gAY_"
      },
      "outputs": [],
      "source": [
        "#importing\n",
        "import numpy as np"
      ]
    },
    {
      "cell_type": "markdown",
      "source": [
        "ceating 1d array"
      ],
      "metadata": {
        "id": "0tnpHusOie-6"
      }
    },
    {
      "cell_type": "code",
      "source": [
        "a=np.array([1,2,3,4])\n",
        "print(a)"
      ],
      "metadata": {
        "colab": {
          "base_uri": "https://localhost:8080/"
        },
        "id": "wJn8RZDHii8U",
        "outputId": "8c97f953-a68a-4d7d-ff3a-79b55bb90596"
      },
      "execution_count": null,
      "outputs": [
        {
          "output_type": "stream",
          "name": "stdout",
          "text": [
            "[1 2 3 4]\n"
          ]
        }
      ]
    },
    {
      "cell_type": "markdown",
      "source": [
        "2d array"
      ],
      "metadata": {
        "id": "2XbEpfwTjX0t"
      }
    },
    {
      "cell_type": "code",
      "source": [
        "b=np.array([[1,2,3],[5,6,7]])\n",
        "print(b)"
      ],
      "metadata": {
        "id": "o_5Pv-b_mViH"
      },
      "execution_count": null,
      "outputs": []
    }
  ],
  "metadata": {
    "colab": {
      "provenance": [],
      "authorship_tag": "ABX9TyN+z/FJ5Ct1x+XqPs0nb4M2",
      "include_colab_link": true
    },
    "kernelspec": {
      "display_name": "Python 3",
      "name": "python3"
    },
    "language_info": {
      "name": "python"
    }
  },
  "nbformat": 4,
  "nbformat_minor": 0
}